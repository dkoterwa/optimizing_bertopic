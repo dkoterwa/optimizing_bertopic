{
 "cells": [
  {
   "cell_type": "code",
   "execution_count": 1,
   "metadata": {},
   "outputs": [],
   "source": [
    "from bertopic import BERTopic\n",
    "import pandas as pd\n",
    "import numpy as np"
   ]
  },
  {
   "cell_type": "code",
   "execution_count": 2,
   "metadata": {},
   "outputs": [
    {
     "data": {
      "text/plain": [
       "dict_keys(['get_embedding_layer_output_mean', 'get_embedding_layer_output_cls', 'get_embedding_layer_output_max', 'get_embedding_last_hidden_layer_mean', 'get_embedding_last_hidden_layer_cls', 'get_embedding_last_hidden_layer_max', 'get_embedding_sum_all_layers_mean', 'get_embedding_sum_all_layers_cls', 'get_embedding_sum_all_layers_max', 'get_embedding_second_last_layer_mean', 'get_embedding_second_last_layer_cls', 'get_embedding_second_last_layer_max', 'get_embedding_sum_last_four_layers_mean', 'get_embedding_sum_last_four_layers_cls', 'get_embedding_sum_last_four_layers_max', 'get_embedding_concat_last_four_layers_mean', 'get_embedding_concat_last_four_layers_cls', 'get_embedding_concat_last_four_layers_max'])"
      ]
     },
     "execution_count": 2,
     "metadata": {},
     "output_type": "execute_result"
    }
   ],
   "source": [
    "embeddings = np.load(\"/teamspace/studios/this_studio/repos/bertopic_pooling_experiments/embeddings_data/without_stopwords/un_nostopwords.npy\", allow_pickle=True).item()\n",
    "docs = pd.read_csv(\"/teamspace/studios/this_studio/repos/bertopic_pooling_experiments/data/without_stopwords/un/corpus.tsv\", sep=\"\\t\", header=None)\n",
    "embeddings.keys()"
   ]
  },
  {
   "cell_type": "code",
   "execution_count": 3,
   "metadata": {},
   "outputs": [],
   "source": [
    "sum_last_four_max = embeddings[\"get_embedding_sum_last_four_layers_max\"]\n",
    "embedding_layer_cls = embeddings[\"get_embedding_layer_output_cls\"]"
   ]
  },
  {
   "cell_type": "code",
   "execution_count": 4,
   "metadata": {},
   "outputs": [],
   "source": [
    "docs_list = docs.iloc[:,0].tolist()"
   ]
  },
  {
   "cell_type": "code",
   "execution_count": 5,
   "metadata": {},
   "outputs": [
    {
     "name": "stderr",
     "output_type": "stream",
     "text": [
      "2024-04-02 19:26:57,819 - BERTopic - Dimensionality - Fitting the dimensionality reduction algorithm\n"
     ]
    },
    {
     "name": "stdout",
     "output_type": "stream",
     "text": [
      "Random state of used UMAP model: 42\n"
     ]
    },
    {
     "name": "stderr",
     "output_type": "stream",
     "text": [
      "2024-04-02 19:28:25,960 - BERTopic - Dimensionality - Completed ✓\n",
      "2024-04-02 19:28:25,962 - BERTopic - Cluster - Start clustering the reduced embeddings\n",
      "2024-04-02 19:28:30,503 - BERTopic - Cluster - Completed ✓\n",
      "2024-04-02 19:28:30,504 - BERTopic - Representation - Extracting topics from clusters using representation models.\n",
      "2024-04-02 19:28:33,218 - BERTopic - Representation - Completed ✓\n",
      "2024-04-02 19:28:33,220 - BERTopic - Topic reduction - Reducing number of topics\n",
      "2024-04-02 19:28:35,554 - BERTopic - Topic reduction - Reduced number of topics from 146 to 10\n"
     ]
    }
   ],
   "source": [
    "topic_model_sum_last_four = BERTopic(min_topic_size=15, nr_topics=10, verbose=True)\n",
    "topics_sum_last_four, probs_sum_last_four = topic_model_sum_last_four.fit_transform(docs_list, embeddings=np.array(sum_last_four_max))"
   ]
  },
  {
   "cell_type": "code",
   "execution_count": 6,
   "metadata": {},
   "outputs": [
    {
     "data": {
      "text/html": [
       "<div>\n",
       "<style scoped>\n",
       "    .dataframe tbody tr th:only-of-type {\n",
       "        vertical-align: middle;\n",
       "    }\n",
       "\n",
       "    .dataframe tbody tr th {\n",
       "        vertical-align: top;\n",
       "    }\n",
       "\n",
       "    .dataframe thead th {\n",
       "        text-align: right;\n",
       "    }\n",
       "</style>\n",
       "<table border=\"1\" class=\"dataframe\">\n",
       "  <thead>\n",
       "    <tr style=\"text-align: right;\">\n",
       "      <th></th>\n",
       "      <th>Topic</th>\n",
       "      <th>Count</th>\n",
       "      <th>Name</th>\n",
       "      <th>Representation</th>\n",
       "      <th>Representative_Docs</th>\n",
       "    </tr>\n",
       "  </thead>\n",
       "  <tbody>\n",
       "    <tr>\n",
       "      <th>0</th>\n",
       "      <td>-1</td>\n",
       "      <td>28537</td>\n",
       "      <td>-1_united_international_nations_development</td>\n",
       "      <td>[united, international, nations, development, ...</td>\n",
       "      <td>[government guyana long persuaded need new glo...</td>\n",
       "    </tr>\n",
       "    <tr>\n",
       "      <th>1</th>\n",
       "      <td>0</td>\n",
       "      <td>20240</td>\n",
       "      <td>0_united_international_nations_security</td>\n",
       "      <td>[united, international, nations, security, als...</td>\n",
       "      <td>[international community united nations must c...</td>\n",
       "    </tr>\n",
       "    <tr>\n",
       "      <th>2</th>\n",
       "      <td>1</td>\n",
       "      <td>1382</td>\n",
       "      <td>1_human_world_peace_us</td>\n",
       "      <td>[human, world, peace, us, mediation, must, pea...</td>\n",
       "      <td>[regard international peace delegation calls s...</td>\n",
       "    </tr>\n",
       "    <tr>\n",
       "      <th>3</th>\n",
       "      <td>2</td>\n",
       "      <td>86</td>\n",
       "      <td>2_south_sudan_member_welcome</td>\n",
       "      <td>[south, sudan, member, welcome, republic, unit...</td>\n",
       "      <td>[pleased welcome government south sudan state ...</td>\n",
       "    </tr>\n",
       "    <tr>\n",
       "      <th>4</th>\n",
       "      <td>3</td>\n",
       "      <td>46</td>\n",
       "      <td>3_chair_took_beck_tanin</td>\n",
       "      <td>[chair, took, beck, tanin, flores, aitimova, c...</td>\n",
       "      <td>[muñoz took chair, mérorès took chair, grabar-...</td>\n",
       "    </tr>\n",
       "    <tr>\n",
       "      <th>5</th>\n",
       "      <td>4</td>\n",
       "      <td>37</td>\n",
       "      <td>4_climate_change_must_threat</td>\n",
       "      <td>[climate, change, must, threat, challenge, glo...</td>\n",
       "      <td>[effects climate change real already affecting...</td>\n",
       "    </tr>\n",
       "    <tr>\n",
       "      <th>6</th>\n",
       "      <td>5</td>\n",
       "      <td>30</td>\n",
       "      <td>5_chair_returned_president_took</td>\n",
       "      <td>[chair, returned, president, took, vicepreside...</td>\n",
       "      <td>[president returned chair, president returned ...</td>\n",
       "    </tr>\n",
       "    <tr>\n",
       "      <th>7</th>\n",
       "      <td>6</td>\n",
       "      <td>28</td>\n",
       "      <td>6_european_statement_behalf_union</td>\n",
       "      <td>[european, statement, behalf, union, aligns, f...</td>\n",
       "      <td>[luxembourg pleased president european herman ...</td>\n",
       "    </tr>\n",
       "    <tr>\n",
       "      <th>8</th>\n",
       "      <td>7</td>\n",
       "      <td>19</td>\n",
       "      <td>7_somali_sheikh_hassan_mohamud</td>\n",
       "      <td>[somali, sheikh, hassan, mohamud, somalia, pre...</td>\n",
       "      <td>[regard current political developments kingdom...</td>\n",
       "    </tr>\n",
       "    <tr>\n",
       "      <th>9</th>\n",
       "      <td>8</td>\n",
       "      <td>17</td>\n",
       "      <td>8_death_penalty_moratorium_abolish</td>\n",
       "      <td>[death, penalty, moratorium, abolish, abolitio...</td>\n",
       "      <td>[increasing number countries support moratoriu...</td>\n",
       "    </tr>\n",
       "  </tbody>\n",
       "</table>\n",
       "</div>"
      ],
      "text/plain": [
       "   Topic  Count                                         Name  \\\n",
       "0     -1  28537  -1_united_international_nations_development   \n",
       "1      0  20240      0_united_international_nations_security   \n",
       "2      1   1382                       1_human_world_peace_us   \n",
       "3      2     86                 2_south_sudan_member_welcome   \n",
       "4      3     46                      3_chair_took_beck_tanin   \n",
       "5      4     37                 4_climate_change_must_threat   \n",
       "6      5     30              5_chair_returned_president_took   \n",
       "7      6     28            6_european_statement_behalf_union   \n",
       "8      7     19               7_somali_sheikh_hassan_mohamud   \n",
       "9      8     17           8_death_penalty_moratorium_abolish   \n",
       "\n",
       "                                      Representation  \\\n",
       "0  [united, international, nations, development, ...   \n",
       "1  [united, international, nations, security, als...   \n",
       "2  [human, world, peace, us, mediation, must, pea...   \n",
       "3  [south, sudan, member, welcome, republic, unit...   \n",
       "4  [chair, took, beck, tanin, flores, aitimova, c...   \n",
       "5  [climate, change, must, threat, challenge, glo...   \n",
       "6  [chair, returned, president, took, vicepreside...   \n",
       "7  [european, statement, behalf, union, aligns, f...   \n",
       "8  [somali, sheikh, hassan, mohamud, somalia, pre...   \n",
       "9  [death, penalty, moratorium, abolish, abolitio...   \n",
       "\n",
       "                                 Representative_Docs  \n",
       "0  [government guyana long persuaded need new glo...  \n",
       "1  [international community united nations must c...  \n",
       "2  [regard international peace delegation calls s...  \n",
       "3  [pleased welcome government south sudan state ...  \n",
       "4  [muñoz took chair, mérorès took chair, grabar-...  \n",
       "5  [effects climate change real already affecting...  \n",
       "6  [president returned chair, president returned ...  \n",
       "7  [luxembourg pleased president european herman ...  \n",
       "8  [regard current political developments kingdom...  \n",
       "9  [increasing number countries support moratoriu...  "
      ]
     },
     "execution_count": 6,
     "metadata": {},
     "output_type": "execute_result"
    }
   ],
   "source": [
    "topic_model_sum_last_four.get_topic_info()"
   ]
  },
  {
   "cell_type": "code",
   "execution_count": 7,
   "metadata": {},
   "outputs": [
    {
     "name": "stderr",
     "output_type": "stream",
     "text": [
      "2024-04-02 19:28:35,845 - BERTopic - Dimensionality - Fitting the dimensionality reduction algorithm\n"
     ]
    },
    {
     "name": "stdout",
     "output_type": "stream",
     "text": [
      "Random state of used UMAP model: 42\n"
     ]
    },
    {
     "name": "stderr",
     "output_type": "stream",
     "text": [
      "2024-04-02 19:30:31,972 - BERTopic - Dimensionality - Completed ✓\n",
      "2024-04-02 19:30:31,974 - BERTopic - Cluster - Start clustering the reduced embeddings\n",
      "2024-04-02 19:30:37,543 - BERTopic - Cluster - Completed ✓\n",
      "2024-04-02 19:30:37,544 - BERTopic - Representation - Extracting topics from clusters using representation models.\n",
      "2024-04-02 19:30:40,634 - BERTopic - Representation - Completed ✓\n",
      "2024-04-02 19:30:40,636 - BERTopic - Topic reduction - Reducing number of topics\n",
      "2024-04-02 19:30:43,140 - BERTopic - Topic reduction - Reduced number of topics from 597 to 10\n"
     ]
    }
   ],
   "source": [
    "topic_model_embedding_layer= BERTopic(min_topic_size=15, nr_topics=10, verbose=True)\n",
    "topics_embedding_layer, probs_embedding_layer = topic_model_embeddings_layer.fit_transform(docs_list, embeddings=np.array(embedding_layer_cls))"
   ]
  },
  {
   "cell_type": "code",
   "execution_count": 15,
   "metadata": {},
   "outputs": [],
   "source": [
    "fig = topic_model_embedding_layer.visualize_barchart(top_n_topics=8, n_words=10, height=350, title=\"Topic Word Scores (Embedding Layer Configuration)\")"
   ]
  },
  {
   "cell_type": "code",
   "execution_count": 16,
   "metadata": {},
   "outputs": [],
   "source": [
    "fig.write_image(\"./results/without_stopwords/plots/top_topics_embedding_layer.png\", format='png', scale=4)"
   ]
  },
  {
   "cell_type": "code",
   "execution_count": 9,
   "metadata": {},
   "outputs": [],
   "source": [
    "fig = topic_model_sum_last_four.visualize_barchart(top_n_topics=8, n_words=10, height=350, title=\"Topic Word Scores (Sum Last Four Layers Configutation)\")"
   ]
  },
  {
   "cell_type": "code",
   "execution_count": 13,
   "metadata": {},
   "outputs": [],
   "source": [
    "fig.write_image(\"./results/without_stopwords/plots/top_topics_sum_last_four.png\", format='png', scale=4)"
   ]
  }
 ],
 "metadata": {
  "kernelspec": {
   "display_name": "Python 3",
   "language": "python",
   "name": "python3"
  },
  "language_info": {
   "codemirror_mode": {
    "name": "ipython",
    "version": 3
   },
   "file_extension": ".py",
   "mimetype": "text/x-python",
   "name": "python",
   "nbconvert_exporter": "python",
   "pygments_lexer": "ipython3",
   "version": "3.10.13"
  }
 },
 "nbformat": 4,
 "nbformat_minor": 2
}
