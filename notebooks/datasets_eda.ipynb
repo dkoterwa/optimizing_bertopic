{
 "cells": [
  {
   "cell_type": "code",
   "execution_count": null,
   "metadata": {},
   "outputs": [],
   "source": [
    "import pandas as pd\n",
    "import numpy as np\n",
    "from collections import Counter\n",
    "import re\n",
    "from nltk.corpus import stopwords\n",
    "stop_words = set(stopwords.words(\"english\"))"
   ]
  },
  {
   "cell_type": "code",
   "execution_count": 16,
   "metadata": {},
   "outputs": [
    {
     "name": "stdout",
     "output_type": "stream",
     "text": [
      "50422\n"
     ]
    }
   ],
   "source": [
    "twenty_ng_df = pd.read_csv(\"./data/without_stopwords/20newsgroups/corpus.tsv\", sep=\"\\t\", header=None)\n",
    "twenty_ng_df.columns = [\"text\"]\n",
    "\n",
    "trump_df = pd.read_csv(\"./data/without_stopwords/trump/corpus.tsv\", sep=\"\\t\", header=None)\n",
    "trump_df.columns = [\"text\"]\n",
    "\n",
    "un_df = pd.read_csv(\"./data/without_stopwords/un/corpus.tsv\", sep=\"\\t\", header=None)\n",
    "un_df.columns = [\"text\"]"
   ]
  },
  {
   "cell_type": "code",
   "execution_count": null,
   "metadata": {},
   "outputs": [],
   "source": [
    "list_of_words = \" \".join(trump_df[\"text\"]).split()"
   ]
  },
  {
   "cell_type": "code",
   "execution_count": null,
   "metadata": {},
   "outputs": [],
   "source": [
    "Counter(list_of_words)"
   ]
  },
  {
   "cell_type": "code",
   "execution_count": 10,
   "metadata": {},
   "outputs": [],
   "source": [
    "def get_variable_name(variable):\n",
    "    return [name for name, value in globals().items() if value is variable][0]\n",
    "\n",
    "def calculate_text_statistics(df, column_name):\n",
    "    number_of_documents = df.shape[0]\n",
    "    df[\"word_count\"] = df[column_name].apply(lambda x: len(x.split()))\n",
    "    df[\"word_length\"] = df[column_name].apply(lambda x: sum(len(word) for word in x.split())/len(x.split()))\n",
    "    average_word_count = df[\"word_count\"].mean()\n",
    "    average_word_length = df[\"word_length\"].mean()\n",
    "\n",
    "    all_words = \" \".join(df[column_name]).split()\n",
    "    filtered_words = [word for word in all_words if word.lower() not in stop_words]\n",
    "    \n",
    "    common_words_counter = Counter(filtered_words)\n",
    "    most_common_words = [word for word, _ in common_words_counter.most_common(10)]\n",
    "    vocabulary_size = len(set(all_words))\n",
    "\n",
    "    return number_of_documents, average_word_count, average_word_length, most_common_words, vocabulary_size"
   ]
  },
  {
   "cell_type": "code",
   "execution_count": 11,
   "metadata": {},
   "outputs": [
    {
     "name": "stdout",
     "output_type": "stream",
     "text": [
      "Statistics for 20 News Groups dataset: \n",
      "\n",
      "          Number of documents: 16309 \n",
      "\n",
      "          Average word count: 47.752713225826234 \n",
      "\n",
      "          Average word length 5.563211579887476 \n",
      "\n",
      "          Most common words: ['make', 'people', 'time', 'good', 'work', 'year', 'system', 'file', 'find', 'give'] \n",
      "\n",
      "          Vocabulary size: 1603 \n",
      "\n",
      "          -----------------------------------------\n",
      "Statistics for Trump tweets dataset: \n",
      "\n",
      "          Number of documents: 43754 \n",
      "\n",
      "          Average word count: 8.072519083969466 \n",
      "\n",
      "          Average word length 5.795128008019047 \n",
      "\n",
      "          Most common words: ['great', 'trump', 'thank', 'people', 'would', 'get', 'new', 'president', 'like', 'big'] \n",
      "\n",
      "          Vocabulary size: 20182 \n",
      "\n",
      "          -----------------------------------------\n",
      "Statistics for United Nations dataset: \n",
      "\n",
      "          Number of documents: 50422 \n",
      "\n",
      "          Average word count: 34.195827218277735 \n",
      "\n",
      "          Average word length 7.207733668551151 \n",
      "\n",
      "          Most common words: ['united', 'international', 'nations', 'development', 'world', 'must', 'security', 'also', 'peace', 'countries'] \n",
      "\n",
      "          Vocabulary size: 29023 \n",
      "\n",
      "          -----------------------------------------\n"
     ]
    }
   ],
   "source": [
    "datasets = [twenty_ng_df, trump_df, un_df]\n",
    "datasets_names = [\"20 News Groups\", \"Trump tweets\", \"United Nations\"]\n",
    "results = {}\n",
    "for dataset_name, dataset in zip(datasets_names, datasets):\n",
    "    n_documents, avg_wc, avg_wl, most_common_words, vocab_size = calculate_text_statistics(dataset, \"text\")\n",
    "    results[dataset_name] = (n_documents, avg_wc, avg_wl, most_common_words, vocab_size)\n",
    "    print(f\"\"\"Statistics for {dataset_name} dataset: \\n\n",
    "          Number of documents: {n_documents} \\n\n",
    "          Average word count: {avg_wc} \\n\n",
    "          Average word length {avg_wl} \\n\n",
    "          Most common words: {most_common_words} \\n\n",
    "          Vocabulary size: {vocab_size} \\n\n",
    "          -----------------------------------------\"\"\")"
   ]
  }
 ],
 "metadata": {
  "kernelspec": {
   "display_name": "bertopic",
   "language": "python",
   "name": "python3"
  },
  "language_info": {
   "codemirror_mode": {
    "name": "ipython",
    "version": 3
   },
   "file_extension": ".py",
   "mimetype": "text/x-python",
   "name": "python",
   "nbconvert_exporter": "python",
   "pygments_lexer": "ipython3",
   "version": "3.10.13"
  }
 },
 "nbformat": 4,
 "nbformat_minor": 2
}
