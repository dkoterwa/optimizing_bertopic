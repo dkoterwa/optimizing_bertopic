{
 "cells": [
  {
   "cell_type": "code",
   "execution_count": null,
   "metadata": {},
   "outputs": [],
   "source": [
    "import pandas as pd\n",
    "import numpy as np\n",
    "from evaluation import Trainer, DataLoader\n",
    "from transformers import AutoTokenizer, AutoModel\n",
    "from tqdm import tqdm"
   ]
  },
  {
   "cell_type": "code",
   "execution_count": null,
   "metadata": {},
   "outputs": [],
   "source": [
    "embeddings_data = np.load(\"./embeddings_data/embeddings_trump_full.npy\", allow_pickle=True).item()"
   ]
  },
  {
   "cell_type": "code",
   "execution_count": null,
   "metadata": {},
   "outputs": [],
   "source": [
    "embeddings_data[\"get_embedding_concat_last_four_layers_cls\"]"
   ]
  },
  {
   "cell_type": "code",
   "execution_count": null,
   "metadata": {},
   "outputs": [],
   "source": [
    "dataset, custom = \"trump\", True\n",
    "for key in tqdm(embeddings_data.keys()):\n",
    "    embeddings = np.array(embeddings_data[key])\n",
    "    for i in range(3):\n",
    "        params = {\n",
    "            \"embedding_model\": \"all-MiniLM-L12-v2\",\n",
    "            \"nr_topics\": [(i + 1) * 10 for i in range(5)],\n",
    "            \"min_topic_size\": 15,\n",
    "            \"verbose\": True,\n",
    "        }\n",
    "        trainer = Trainer(\n",
    "            dataset=dataset,\n",
    "            model_name=\"BERTopic\",\n",
    "            params=params,\n",
    "            bt_embeddings=embeddings,\n",
    "            custom_dataset=custom,\n",
    "            verbose=True,\n",
    "        )\n",
    "        results = trainer.train(\n",
    "            save=f\"./results/BERTopic_trump_{(key)}_{i+1}\"\n",
    "        )"
   ]
  }
 ],
 "metadata": {
  "kernelspec": {
   "display_name": "bertopic",
   "language": "python",
   "name": "python3"
  },
  "language_info": {
   "codemirror_mode": {
    "name": "ipython",
    "version": 3
   },
   "file_extension": ".py",
   "mimetype": "text/x-python",
   "name": "python",
   "nbconvert_exporter": "python",
   "pygments_lexer": "ipython3",
   "version": "3.9.13"
  }
 },
 "nbformat": 4,
 "nbformat_minor": 2
}
